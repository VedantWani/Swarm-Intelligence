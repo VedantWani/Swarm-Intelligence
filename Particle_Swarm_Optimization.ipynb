{
  "nbformat": 4,
  "nbformat_minor": 0,
  "metadata": {
    "colab": {
      "name": "Particle Swarm Optimization",
      "provenance": [],
      "collapsed_sections": []
    },
    "kernelspec": {
      "name": "python3",
      "display_name": "Python 3"
    }
  },
  "cells": [
    {
      "cell_type": "code",
      "metadata": {
        "id": "uBhMFCEoWjqZ",
        "colab_type": "code",
        "colab": {}
      },
      "source": [
        "import numpy as np\n",
        "import matplotlib.pyplot as plt\n"
      ],
      "execution_count": 0,
      "outputs": []
    },
    {
      "cell_type": "code",
      "metadata": {
        "id": "VOQYY9kkWrWJ",
        "colab_type": "code",
        "colab": {}
      },
      "source": [
        "def CostFunction(position):\n",
        "  \n",
        "\n",
        "  return (position[0] - 0.1)**2 + (position[1] - 2)**2;\n"
      ],
      "execution_count": 0,
      "outputs": []
    },
    {
      "cell_type": "code",
      "metadata": {
        "id": "xk6J-eF-W_Gu",
        "colab_type": "code",
        "colab": {}
      },
      "source": [
        "  class Particle:\n",
        "    pass"
      ],
      "execution_count": 0,
      "outputs": []
    },
    {
      "cell_type": "code",
      "metadata": {
        "id": "ByD_Nh1y9etA",
        "colab_type": "code",
        "colab": {}
      },
      "source": [
        "BestSolution = []"
      ],
      "execution_count": 0,
      "outputs": []
    },
    {
      "cell_type": "code",
      "metadata": {
        "id": "vyqaCmZga0Rn",
        "colab_type": "code",
        "colab": {}
      },
      "source": [
        "gBest = Particle()"
      ],
      "execution_count": 0,
      "outputs": []
    },
    {
      "cell_type": "code",
      "metadata": {
        "id": "OsItC5MpbMF6",
        "colab_type": "code",
        "colab": {}
      },
      "source": [
        "gBest.cost = float('inf')"
      ],
      "execution_count": 0,
      "outputs": []
    },
    {
      "cell_type": "code",
      "metadata": {
        "id": "fy0DoFLHakeZ",
        "colab_type": "code",
        "colab": {}
      },
      "source": [
        "#problem definition\n",
        "\n",
        "Dim = 2\n",
        "varsize = 2\n",
        "\n",
        "DimMin = -5\n",
        "DimMax = 5"
      ],
      "execution_count": 0,
      "outputs": []
    },
    {
      "cell_type": "code",
      "metadata": {
        "id": "N32Vh853aRw5",
        "colab_type": "code",
        "colab": {}
      },
      "source": [
        "#PSO Parameters\n",
        "swarm_size = 50\n",
        "max_iter = 1000\n",
        "c1 = 2\n",
        "c2 = 2\n",
        "W = 0.7"
      ],
      "execution_count": 0,
      "outputs": []
    },
    {
      "cell_type": "code",
      "metadata": {
        "id": "8UDWoyqn-nct",
        "colab_type": "code",
        "colab": {}
      },
      "source": [
        "#initialization of swarm\n",
        "\n",
        "Swarm = []\n",
        "\n",
        "for i in range(swarm_size):\n",
        "  particle = Particle()\n",
        "\n",
        "  particle.position = np.random.uniform(DimMin, DimMax, varsize)\n",
        "  particle.velocity = np.random.uniform(DimMin, DimMax, varsize)\n",
        "  \n",
        "  #fitness\n",
        "  particle.cost = CostFunction(particle.position)\n",
        "  \n",
        "  #initialize pbest(same as position)\n",
        "  particle.pbest = particle.position\n",
        "  particle.pbestCost = particle.cost\n",
        "\n",
        "  #update gbest\n",
        "\n",
        "  if particle.pbestCost < gBest.cost:\n",
        "    gBest.cost = particle.pbestCost\n",
        "    gBest.position = particle.pbest\n",
        "  \n",
        "  Swarm.append(particle)\n",
        "\n"
      ],
      "execution_count": 0,
      "outputs": []
    },
    {
      "cell_type": "code",
      "metadata": {
        "id": "q4tzz8HtA885",
        "colab_type": "code",
        "colab": {}
      },
      "source": [
        "for it in range(0,max_iter):\n",
        "  for i in range(0, swarm_size):\n",
        "    \n",
        "    #velocity update\n",
        "    Swarm[i].velocity = W * Swarm[i].velocity + c1 * np.random.rand(varsize) * (Swarm[i].pbest - Swarm[i].position) + c2 * np.random.rand(varsize) * (gBest.position - Swarm[i].position)\n",
        "\n",
        "    #position update\n",
        "    Swarm[i].position = Swarm[i].position + Swarm[i].velocity\n",
        "\n",
        "    #make sure position is within bounds\n",
        "    Swarm[i].position = np.maximum(Swarm[i].position,DimMin)\n",
        "    Swarm[i].position = np.minimum(Swarm[i].position,DimMax)\n",
        "\n",
        "    #valuate fitness\n",
        "    Swarm[i].cost = CostFunction(Swarm[i].position)\n",
        "\n",
        "    #update pbest\n",
        "    if Swarm[i].cost < Swarm[i].pbestCost:\n",
        "      Swarm[i].pbestCost = Swarm[i].cost\n",
        "      Swarm[i].pbest = Swarm[i].position\n",
        "\n",
        "    #update gbest\n",
        "    if Swarm[i].pbestCost < gBest.cost:\n",
        "      gBest.cost = Swarm[i].pbestCost\n",
        "      gBest.position = Swarm[i].pbest\n",
        "\n",
        "  BestSolution.append(gBest.cost)\n"
      ],
      "execution_count": 0,
      "outputs": []
    },
    {
      "cell_type": "code",
      "metadata": {
        "id": "Wt5d-qycBH6w",
        "colab_type": "code",
        "outputId": "7f1ac8f6-589e-4101-e07a-d395e7338d03",
        "colab": {
          "base_uri": "https://localhost:8080/",
          "height": 282
        }
      },
      "source": [
        "plt.plot(BestSolution)"
      ],
      "execution_count": 0,
      "outputs": [
        {
          "output_type": "execute_result",
          "data": {
            "text/plain": [
              "[<matplotlib.lines.Line2D at 0x7f7b81407198>]"
            ]
          },
          "metadata": {
            "tags": []
          },
          "execution_count": 121
        },
        {
          "output_type": "display_data",
          "data": {
            "image/png": "[encoded data removed]",
            "text/plain": [
              "<Figure size 432x288 with 1 Axes>"
            ]
          },
          "metadata": {
            "tags": []
          }
        }
      ]
    },
    {
      "cell_type": "code",
      "metadata": {
        "id": "ld2M8jr5Ev0D",
        "colab_type": "code",
        "outputId": "221975a1-a6ad-4ca9-d898-0a2caf6bdb23",
        "colab": {
          "base_uri": "https://localhost:8080/",
          "height": 34
        }
      },
      "source": [
        "gBest.position"
      ],
      "execution_count": 0,
      "outputs": [
        {
          "output_type": "execute_result",
          "data": {
            "text/plain": [
              "array([0.1, 2. ])"
            ]
          },
          "metadata": {
            "tags": []
          },
          "execution_count": 122
        }
      ]
    },
    {
      "cell_type": "code",
      "metadata": {
        "id": "ZSabvcarFDaP",
        "colab_type": "code",
        "outputId": "467a5ed3-7f38-4035-ae36-5eb61666184d",
        "colab": {
          "base_uri": "https://localhost:8080/",
          "height": 34
        }
      },
      "source": [
        "gBest.cost"
      ],
      "execution_count": 0,
      "outputs": [
        {
          "output_type": "execute_result",
          "data": {
            "text/plain": [
              "0.0"
            ]
          },
          "metadata": {
            "tags": []
          },
          "execution_count": 123
        }
      ]
    }
  ]
}