{
  "nbformat": 4,
  "nbformat_minor": 0,
  "metadata": {
    "colab": {
      "name": "Artificial Bee Colony",
      "provenance": [],
      "collapsed_sections": [],
      "authorship_tag": "ABX9TyNE/PNjUuv4Mbpl8WmXw2ZH",
      "include_colab_link": true
    },
    "kernelspec": {
      "name": "python3",
      "display_name": "Python 3"
    }
  },
  "cells": [
    {
      "cell_type": "markdown",
      "metadata": {
        "id": "view-in-github",
        "colab_type": "text"
      },
      "source": [
        "<a href=\"https://colab.research.google.com/github/VedantWani/Swarm-Intelligence/blob/master/Artificial_Bee_Colony.ipynb\" target=\"_parent\"><img src=\"https://colab.research.google.com/assets/colab-badge.svg\" alt=\"Open In Colab\"/></a>"
      ]
    },
    {
      "cell_type": "code",
      "metadata": {
        "id": "uBhMFCEoWjqZ",
        "colab_type": "code",
        "colab": {}
      },
      "source": [
        "import numpy as np\n",
        "import random\n",
        "import matplotlib.pyplot as plt\n"
      ],
      "execution_count": 0,
      "outputs": []
    },
    {
      "cell_type": "code",
      "metadata": {
        "id": "VOQYY9kkWrWJ",
        "colab_type": "code",
        "colab": {}
      },
      "source": [
        "def CostFunction(position):\n",
        "  total = 0\n",
        "  \n",
        "  for i in range(len(position)):\n",
        "    total+=position[i]**2\n",
        "  return total"
      ],
      "execution_count": 0,
      "outputs": []
    },
    {
      "cell_type": "code",
      "metadata": {
        "id": "1rQ-ILHLq873",
        "colab_type": "code",
        "colab": {}
      },
      "source": [
        "def fitness(cost):\n",
        "  fit = cost\n",
        "  if fit < 0:\n",
        "      fit = 1 + abs(fit)\n",
        "  else:\n",
        "      fit = 1/(1+fit)\n",
        "\n",
        "\n",
        "  return fit\n",
        "\n"
      ],
      "execution_count": 0,
      "outputs": []
    },
    {
      "cell_type": "code",
      "metadata": {
        "id": "wincnc4-pEoV",
        "colab_type": "code",
        "colab": {}
      },
      "source": [
        "def Selection_roulette(fitness):\n",
        "  P = fitness/sum(fitness)\n",
        "\n",
        "  rand = np.random.rand()\n",
        "  cummulsum = np.cumsum(P)\n",
        "\n",
        "  sh = np.argwhere(rand<=cummulsum)\n",
        "  random.shuffle(sh)\n",
        "  \n",
        "  return random.choice(sh)[0]\n",
        "\n",
        "   "
      ],
      "execution_count": 0,
      "outputs": []
    },
    {
      "cell_type": "code",
      "metadata": {
        "id": "LhrtGhTwth6A",
        "colab_type": "code",
        "colab": {
          "base_uri": "https://localhost:8080/",
          "height": 34
        },
        "outputId": "dba9bf50-3894-444d-c826-89c1ba73de51"
      },
      "source": [
        "cummulsum = np.cumsum([0.1,0.2,0.3,0.4])\n",
        "\n",
        "np.argwhere(0.19<=cummulsum)\n",
        "sh =np.argwhere(0.09<=cummulsum)\n",
        "random.shuffle(sh)\n",
        "random.choice(sh)[0]"
      ],
      "execution_count": 307,
      "outputs": [
        {
          "output_type": "execute_result",
          "data": {
            "text/plain": [
              "0"
            ]
          },
          "metadata": {
            "tags": []
          },
          "execution_count": 307
        }
      ]
    },
    {
      "cell_type": "code",
      "metadata": {
        "id": "oQpo3sDhtjc7",
        "colab_type": "code",
        "colab": {}
      },
      "source": [
        ""
      ],
      "execution_count": 0,
      "outputs": []
    },
    {
      "cell_type": "code",
      "metadata": {
        "id": "xk6J-eF-W_Gu",
        "colab_type": "code",
        "colab": {}
      },
      "source": [
        "  class Bee:\n",
        "    pass"
      ],
      "execution_count": 0,
      "outputs": []
    },
    {
      "cell_type": "code",
      "metadata": {
        "id": "ByD_Nh1y9etA",
        "colab_type": "code",
        "colab": {}
      },
      "source": [
        "BestSolution = []"
      ],
      "execution_count": 0,
      "outputs": []
    },
    {
      "cell_type": "code",
      "metadata": {
        "id": "vyqaCmZga0Rn",
        "colab_type": "code",
        "colab": {}
      },
      "source": [
        "gBest = Bee()"
      ],
      "execution_count": 0,
      "outputs": []
    },
    {
      "cell_type": "code",
      "metadata": {
        "id": "OsItC5MpbMF6",
        "colab_type": "code",
        "colab": {}
      },
      "source": [
        "gBest.cost = float('inf')"
      ],
      "execution_count": 0,
      "outputs": []
    },
    {
      "cell_type": "code",
      "metadata": {
        "id": "fy0DoFLHakeZ",
        "colab_type": "code",
        "colab": {}
      },
      "source": [
        "#problem definition\n",
        "\n",
        "\n",
        "Dim = 5\n",
        "varsize = 2\n",
        "\n",
        "DimMin = -100\n",
        "DimMax = 100"
      ],
      "execution_count": 0,
      "outputs": []
    },
    {
      "cell_type": "code",
      "metadata": {
        "id": "N32Vh853aRw5",
        "colab_type": "code",
        "colab": {}
      },
      "source": [
        "#PSO Parameters\n",
        "swarm_size = 100\n",
        "max_iter = 100\n",
        "limit = 100"
      ],
      "execution_count": 0,
      "outputs": []
    },
    {
      "cell_type": "code",
      "metadata": {
        "id": "8UDWoyqn-nct",
        "colab_type": "code",
        "colab": {}
      },
      "source": [
        "#initialization of swarm\n",
        "\n",
        "Swarm = []\n",
        "\n",
        "for i in range(swarm_size):\n",
        "  bee = Bee()\n",
        "\n",
        "  bee.position = np.random.uniform(DimMin, DimMax, varsize)\n",
        "  #costfunction\n",
        "  bee.cost = CostFunction(bee.position)\n",
        "  \n",
        "   #update global\n",
        "\n",
        "  if bee.cost < gBest.cost:\n",
        "    gBest.cost = bee.cost\n",
        "    gBest.position = bee.position\n",
        "  \n",
        "  Swarm.append(bee)\n",
        "\n",
        "AC = np.zeros((swarm_size,1))\n"
      ],
      "execution_count": 0,
      "outputs": []
    },
    {
      "cell_type": "code",
      "metadata": {
        "id": "cixtdre6nRQ3",
        "colab_type": "code",
        "colab": {}
      },
      "source": [
        ""
      ],
      "execution_count": 0,
      "outputs": []
    },
    {
      "cell_type": "code",
      "metadata": {
        "id": "q4tzz8HtA885",
        "colab_type": "code",
        "colab": {
          "base_uri": "https://localhost:8080/",
          "height": 1000
        },
        "outputId": "360d4bfa-7a47-4ded-cf97-db9ee6974cad"
      },
      "source": [
        "for it in range(0,max_iter):\n",
        "  for i in range(0, swarm_size):\n",
        "    \n",
        "    #employeed Bee Phase\n",
        "    randk = list(range(swarm_size))\n",
        "    randk.remove(i)\n",
        "    random.shuffle(randk)\n",
        "    k = random.choice(randk)\n",
        "\n",
        "    phi = np.random.uniform(-1, 1, varsize)\n",
        "   \n",
        "\n",
        "    newbee = Bee()\n",
        "    #position update\n",
        "    newbee.position = Swarm[i].position + phi * (Swarm[i].position - Swarm[k].position)\n",
        "\n",
        "    #fitness calculation\n",
        "\n",
        "    #valuate fitness\n",
        "    Swarm[i].cost = CostFunction(Swarm[i].position)\n",
        "    newbee.cost = CostFunction(newbee.position)\n",
        "\n",
        "    beeCurrfitness = fitness(Swarm[i].cost)\n",
        "    newbeefitness = fitness(newbee.cost)\n",
        "    #greedy selection using fitness and not by cost\n",
        "    if newbeefitness >= beeCurrfitness:\n",
        "      Swarm[i].cost = newbee.cost\n",
        "      Swarm[i].position = newbee.position\n",
        "      #print(newbee.cost)\n",
        "    else:\n",
        "      AC[i] += 1\n",
        "  \n",
        "  #fitness and probabli\n",
        "\n",
        "  fit = []\n",
        "  for i in range(0, swarm_size):\n",
        "    fit.append(fitness(Swarm[i].cost))\n",
        "  \n",
        "  \n",
        "  \n",
        " \n",
        "\n",
        "  #onlooker bee phase\n",
        "  \n",
        "  for i in range(0,swarm_size):\n",
        "    \n",
        "    selectedBee = Selection_roulette(fit)\n",
        "\n",
        "    randk = list(range(swarm_size))\n",
        "    randk.remove(selectedBee)\n",
        "    random.shuffle(randk)\n",
        "    k = random.choice(randk)\n",
        "\n",
        "    phi = np.random.uniform(-1, 1, varsize)\n",
        "   \n",
        "\n",
        "    newbee = Bee()\n",
        "    #position update\n",
        "    newbee.position = Swarm[selectedBee].position + phi * (Swarm[selectedBee].position - Swarm[k].position)\n",
        "\n",
        "    #fitness calculation\n",
        "\n",
        "    #valuate fitness\n",
        "    Swarm[selectedBee].cost = CostFunction(Swarm[selectedBee].position)\n",
        "    newbee.cost = CostFunction(newbee.position)\n",
        "\n",
        "    beeCurrfitness = fitness(Swarm[selectedBee].cost)\n",
        "    newbeefitness = fitness(newbee.cost)\n",
        "    #greedy selection using fitness and not by cost\n",
        "    if newbeefitness >= beeCurrfitness:\n",
        "      Swarm[selectedBee].cost = newbee.cost\n",
        "      Swarm[selectedBee].position = newbee.position\n",
        "    else:\n",
        "      AC[selectedBee] += 1\n",
        "\n",
        " #SCout BEe\n",
        "  for i in range(0, swarm_size):\n",
        "    if AC[i] >= limit:\n",
        "      Swarm[i].position = np.random.uniform(DimMin, DimMax, varsize)\n",
        "      #costfunction\n",
        "      Swarm[i].cost = CostFunction(bee.position)\n",
        "\n",
        "      AC[i] = 0\n",
        "  \n",
        "  for i in range(0, swarm_size):\n",
        "    if Swarm[i].cost < gBest.cost:\n",
        "      gBest.cost = Swarm[i].cost\n",
        "      gBest.position = Swarm[i].position\n",
        "\n",
        "  BestSolution.append(gBest.cost)\n",
        "  print(\"Iteration : \" +str(it)+\" Best COst: \"+str(gBest.cost))\n"
      ],
      "execution_count": 315,
      "outputs": [
        {
          "output_type": "stream",
          "text": [
            "Iteration : 0 Best COst: 16.756864582959196\n",
            "Iteration : 1 Best COst: 3.744793642507049\n",
            "Iteration : 2 Best COst: 1.7020052930322132\n",
            "Iteration : 3 Best COst: 1.2334693937331285\n",
            "Iteration : 4 Best COst: 0.4029144779865095\n",
            "Iteration : 5 Best COst: 0.038937687918914665\n",
            "Iteration : 6 Best COst: 0.038937687918914665\n",
            "Iteration : 7 Best COst: 0.038937687918914665\n",
            "Iteration : 8 Best COst: 0.038937687918914665\n",
            "Iteration : 9 Best COst: 0.031937844511388265\n",
            "Iteration : 10 Best COst: 0.010425868336599413\n",
            "Iteration : 11 Best COst: 0.008686366988963483\n",
            "Iteration : 12 Best COst: 6.666503517212842e-05\n",
            "Iteration : 13 Best COst: 6.666503517212842e-05\n",
            "Iteration : 14 Best COst: 6.666503517212842e-05\n",
            "Iteration : 15 Best COst: 6.666503517212842e-05\n",
            "Iteration : 16 Best COst: 6.666503517212842e-05\n",
            "Iteration : 17 Best COst: 6.666503517212842e-05\n",
            "Iteration : 18 Best COst: 3.14631182294459e-05\n",
            "Iteration : 19 Best COst: 3.14631182294459e-05\n",
            "Iteration : 20 Best COst: 3.14631182294459e-05\n",
            "Iteration : 21 Best COst: 6.240325548419689e-07\n",
            "Iteration : 22 Best COst: 6.240325548419689e-07\n",
            "Iteration : 23 Best COst: 6.240325548419689e-07\n",
            "Iteration : 24 Best COst: 6.240325548419689e-07\n",
            "Iteration : 25 Best COst: 6.240325548419689e-07\n",
            "Iteration : 26 Best COst: 6.240325548419689e-07\n",
            "Iteration : 27 Best COst: 4.713527353468e-07\n",
            "Iteration : 28 Best COst: 4.713527353468e-07\n",
            "Iteration : 29 Best COst: 4.713527353468e-07\n",
            "Iteration : 30 Best COst: 5.0020550417939156e-08\n",
            "Iteration : 31 Best COst: 1.1779420065613084e-08\n",
            "Iteration : 32 Best COst: 1.1779420065613084e-08\n",
            "Iteration : 33 Best COst: 1.1779420065613084e-08\n",
            "Iteration : 34 Best COst: 6.135994306788847e-09\n",
            "Iteration : 35 Best COst: 6.135994306788847e-09\n",
            "Iteration : 36 Best COst: 6.135994306788847e-09\n",
            "Iteration : 37 Best COst: 2.365781734367789e-10\n",
            "Iteration : 38 Best COst: 2.365781734367789e-10\n",
            "Iteration : 39 Best COst: 2.3483523231444695e-10\n",
            "Iteration : 40 Best COst: 1.0632261159275405e-10\n",
            "Iteration : 41 Best COst: 1.0632261159275405e-10\n",
            "Iteration : 42 Best COst: 1.0632261159275405e-10\n",
            "Iteration : 43 Best COst: 1.3610611189748246e-11\n",
            "Iteration : 44 Best COst: 1.3610611189748246e-11\n",
            "Iteration : 45 Best COst: 1.3610611189748246e-11\n",
            "Iteration : 46 Best COst: 1.3610611189748246e-11\n",
            "Iteration : 47 Best COst: 1.3610611189748246e-11\n",
            "Iteration : 48 Best COst: 3.435440459149673e-13\n",
            "Iteration : 49 Best COst: 2.3072123604793665e-13\n",
            "Iteration : 50 Best COst: 2.3072123604793665e-13\n",
            "Iteration : 51 Best COst: 2.3072123604793665e-13\n",
            "Iteration : 52 Best COst: 2.3072123604793665e-13\n",
            "Iteration : 53 Best COst: 2.3072123604793665e-13\n",
            "Iteration : 54 Best COst: 5.4206053929653216e-14\n",
            "Iteration : 55 Best COst: 5.4206053929653216e-14\n",
            "Iteration : 56 Best COst: 5.4206053929653216e-14\n",
            "Iteration : 57 Best COst: 5.0181804637118737e-14\n",
            "Iteration : 58 Best COst: 5.0181804637118737e-14\n",
            "Iteration : 59 Best COst: 3.729122684965129e-14\n",
            "Iteration : 60 Best COst: 1.2563903583413013e-14\n",
            "Iteration : 61 Best COst: 7.89695877724212e-15\n",
            "Iteration : 62 Best COst: 7.89695877724212e-15\n",
            "Iteration : 63 Best COst: 1.9789266494037014e-15\n",
            "Iteration : 64 Best COst: 1.9789266494037014e-15\n",
            "Iteration : 65 Best COst: 1.9789266494037014e-15\n",
            "Iteration : 66 Best COst: 1.43811739533312e-15\n",
            "Iteration : 67 Best COst: 2.6494501729785425e-16\n",
            "Iteration : 68 Best COst: 2.6494501729785425e-16\n",
            "Iteration : 69 Best COst: 2.6494501729785425e-16\n",
            "Iteration : 70 Best COst: 2.6494501729785425e-16\n",
            "Iteration : 71 Best COst: 2.6494501729785425e-16\n",
            "Iteration : 72 Best COst: 2.6494501729785425e-16\n",
            "Iteration : 73 Best COst: 2.6494501729785425e-16\n",
            "Iteration : 74 Best COst: 1.0177390345823049e-16\n",
            "Iteration : 75 Best COst: 4.984074729944896e-17\n",
            "Iteration : 76 Best COst: 1.4137438119512285e-17\n",
            "Iteration : 77 Best COst: 1.4137438119512285e-17\n",
            "Iteration : 78 Best COst: 1.4137438119512285e-17\n",
            "Iteration : 79 Best COst: 1.4137438119512285e-17\n",
            "Iteration : 80 Best COst: 1.4137438119512285e-17\n",
            "Iteration : 81 Best COst: 1.4137438119512285e-17\n",
            "Iteration : 82 Best COst: 1.4137438119512285e-17\n",
            "Iteration : 83 Best COst: 1.4137438119512285e-17\n",
            "Iteration : 84 Best COst: 1.4137438119512285e-17\n",
            "Iteration : 85 Best COst: 1.4137438119512285e-17\n",
            "Iteration : 86 Best COst: 1.4137438119512285e-17\n",
            "Iteration : 87 Best COst: 1.4137438119512285e-17\n",
            "Iteration : 88 Best COst: 1.4137438119512285e-17\n",
            "Iteration : 89 Best COst: 1.4137438119512285e-17\n",
            "Iteration : 90 Best COst: 1.4137438119512285e-17\n",
            "Iteration : 91 Best COst: 1.4137438119512285e-17\n",
            "Iteration : 92 Best COst: 1.4137438119512285e-17\n",
            "Iteration : 93 Best COst: 1.4137438119512285e-17\n",
            "Iteration : 94 Best COst: 1.4137438119512285e-17\n",
            "Iteration : 95 Best COst: 1.094563211139774e-17\n",
            "Iteration : 96 Best COst: 4.194003264000541e-18\n",
            "Iteration : 97 Best COst: 4.194003264000541e-18\n",
            "Iteration : 98 Best COst: 4.1286004260467725e-18\n",
            "Iteration : 99 Best COst: 3.964124886799743e-18\n"
          ],
          "name": "stdout"
        }
      ]
    },
    {
      "cell_type": "code",
      "metadata": {
        "id": "Wt5d-qycBH6w",
        "colab_type": "code",
        "colab": {
          "base_uri": "https://localhost:8080/",
          "height": 285
        },
        "outputId": "fb693cf6-30e5-4675-cbab-8c4b8f77fbfb"
      },
      "source": [
        "plt.plot(BestSolution)"
      ],
      "execution_count": 316,
      "outputs": [
        {
          "output_type": "execute_result",
          "data": {
            "text/plain": [
              "[<matplotlib.lines.Line2D at 0x7f22c6ba3e10>]"
            ]
          },
          "metadata": {
            "tags": []
          },
          "execution_count": 316
        },
        {
          "output_type": "display_data",
          "data": {
            "image/png": "[encoded data removed]",
            "text/plain": [
              "<Figure size 432x288 with 1 Axes>"
            ]
          },
          "metadata": {
            "tags": []
          }
        }
      ]
    },
    {
      "cell_type": "code",
      "metadata": {
        "id": "ld2M8jr5Ev0D",
        "colab_type": "code",
        "colab": {
          "base_uri": "https://localhost:8080/",
          "height": 34
        },
        "outputId": "5e954ce0-9365-42e0-bd74-c849e0b3c990"
      },
      "source": [
        "gBest.position"
      ],
      "execution_count": 317,
      "outputs": [
        {
          "output_type": "execute_result",
          "data": {
            "text/plain": [
              "array([ 1.49832638e-09, -1.31116091e-09])"
            ]
          },
          "metadata": {
            "tags": []
          },
          "execution_count": 317
        }
      ]
    },
    {
      "cell_type": "code",
      "metadata": {
        "id": "ZSabvcarFDaP",
        "colab_type": "code",
        "colab": {
          "base_uri": "https://localhost:8080/",
          "height": 34
        },
        "outputId": "3125db7b-6558-4d80-c09c-e4999913caf4"
      },
      "source": [
        "gBest.cost"
      ],
      "execution_count": 318,
      "outputs": [
        {
          "output_type": "execute_result",
          "data": {
            "text/plain": [
              "3.964124886799743e-18"
            ]
          },
          "metadata": {
            "tags": []
          },
          "execution_count": 318
        }
      ]
    },
    {
      "cell_type": "code",
      "metadata": {
        "id": "FywzFJyyznFQ",
        "colab_type": "code",
        "colab": {}
      },
      "source": [
        ""
      ],
      "execution_count": 0,
      "outputs": []
    }
  ]
}